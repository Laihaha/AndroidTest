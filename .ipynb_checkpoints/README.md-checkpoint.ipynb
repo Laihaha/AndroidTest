{
 "cells": [
  {
   "attachments": {},
   "cell_type": "markdown",
   "id": "8da7e191",
   "metadata": {},
   "source": [
    "### 1.下载 Android Studio\n",
    "![图片](D:/AndroidTest/Test1/Image/1/图片1.png)\n",
    "\n",
    "### 2.安装 Android Studio\n",
    "![图片](http://baidu.com/hellotest.png)\n",
    "![图片](http://baidu.com/hellotest.png)"
   ]
  },
  {
   "cell_type": "code",
   "execution_count": null,
   "id": "d08070f9",
   "metadata": {},
   "outputs": [],
   "source": []
  }
 ],
 "metadata": {
  "kernelspec": {
   "display_name": "Python 3 (ipykernel)",
   "language": "python",
   "name": "python3"
  },
  "language_info": {
   "codemirror_mode": {
    "name": "ipython",
    "version": 3
   },
   "file_extension": ".py",
   "mimetype": "text/x-python",
   "name": "python",
   "nbconvert_exporter": "python",
   "pygments_lexer": "ipython3",
   "version": "3.9.7"
  }
 },
 "nbformat": 4,
 "nbformat_minor": 5
}
